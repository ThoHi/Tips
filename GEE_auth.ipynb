{
  "nbformat": 4,
  "nbformat_minor": 0,
  "metadata": {
    "colab": {
      "provenance": []
    },
    "kernelspec": {
      "name": "python3",
      "display_name": "Python 3"
    },
    "language_info": {
      "name": "python"
    }
  },
  "cells": [
    {
      "cell_type": "markdown",
      "source": [
        "###Install Google Earth Engine Python API"
      ],
      "metadata": {
        "id": "oA8cWVgclwjd"
      }
    },
    {
      "cell_type": "code",
      "source": [
        "!pip install earthengine-api"
      ],
      "metadata": {
        "colab": {
          "base_uri": "https://localhost:8080/"
        },
        "collapsed": true,
        "id": "CsSEApOe8zPk",
        "outputId": "893ea25f-bb1b-4263-da1c-3e0ae1638562"
      },
      "execution_count": 18,
      "outputs": [
        {
          "output_type": "stream",
          "name": "stdout",
          
        }
      ]
    },
    {
      "cell_type": "markdown",
      "source": [
        "###Import the Earth Engine module and initialize it:\n",
        "When Google login pop up, agree for permission. There have 4 permissions requested."
      ],
      "metadata": {
        "id": "3pH85znNl45B"
      }
    },
    {
      "cell_type": "code",
      "source": [
        "import ee\n",
        "ee.Authenticate()"
      ],
      "metadata": {
        "colab": {
          "base_uri": "https://localhost:8080/"
        },
        "id": "uNB6_ixM82IX",
        "outputId": "5423eaf4-9ec2-40e1-95b5-3d9a29a8fab5"
      },
      "execution_count": 19,
      "outputs": [
        {
          "output_type": "execute_result",
          "data": {
            "text/plain": [
              "True"
            ]
          },
          "metadata": {},
          "execution_count": 19
        }
      ]
    },
    {
      "cell_type": "markdown",
      "source": [
        "When you run the ee.Authenticate() command, it will provide you with a URL. Click on this URL or copy-paste it into a new browser tab.\n",
        "Sign in with your Google account that has Earth Engine access.\n",
        "After signing in, you'll receive an authorization code. Copy this code.\n",
        "Paste the authorization code back into the Colab notebook when prompted.\n",
        "This process should authenticate your Earth Engine account with Colab. However, you'll need to repeat this authentication process each time you start a new Colab session or if your session times out."
      ],
      "metadata": {
        "id": "Fil5Ax3-SU4v"
      }
    },
    {
      "cell_type": "markdown",
      "source": [
        "###Another method (my choice)\n",
        "To avoid repeating this process every time, you can use a service account instead:\n",
        "Create a service account and download the private key file from the Google Cloud Console.\n",
        "Upload the private key file to your Colab environment.\n",
        "Use the following code to authenticate using the service account:"
      ],
      "metadata": {
        "id": "EfHXlUNum-XF"
      }
    },
    {
      "cell_type": "code",
      "source": [
        "import ee\n",
        "\n",
        "# Path to your service account key file\n",
        "service_account = 'path/to/your-service-account-key.json'\n",
        "\n",
        "# Authenticate and initialize\n",
        "credentials = ee.ServiceAccountCredentials(None, service_account)\n",
        "ee.Initialize(credentials)"
      ],
      "metadata": {
        "id": "GNkQtMmu_rxi"
      },
      "execution_count": 23,
      "outputs": []
    },
    {
      "cell_type": "markdown",
      "source": [
        "### For service account key create details.\n",
        "Go to the Google Cloud Console (https://console.cloud.google.com/).\n",
        "\n",
        "Select your project or create a new one if you haven't already.\n",
        "\n",
        "In the left sidebar, navigate to \"IAM & Admin\" > \"Service Accounts\".\n",
        "\n",
        "Click on \"Create Service Account\" at the top of the page.\n",
        "\n",
        "Give your service account a name and description, then click \"Create\".\n",
        "\n",
        "In the \"Service account permissions\" section, you can assign roles.\n",
        "For Earth Engine, you typically need the \"Earth Engine Resource Viewer\" role at minimum.\n",
        "\n",
        "After setting permissions, click \"Continue\" and then \"Done\".\n",
        "\n",
        "Now, find your newly created service account in the list and click on it.\n",
        "\n",
        "In the service account details page, go to the \"Keys\" tab.\n",
        "\n",
        "Click on \"Add Key\" > \"Create new key\".\n",
        "\n",
        "Choose \"JSON\" as the key type and click \"Create\".\n",
        "\n",
        "The JSON key file will be automatically downloaded to your computer.\n",
        "\n",
        "###Important notes:\n",
        "\n",
        "Keep this file secure. It contains sensitive information that grants access to your Google Cloud resources.\n",
        "\n",
        "***Never share this file or upload it to public repositories.***\n",
        "\n",
        "When using it with Colab, you'll need to upload this file to your Colab environment each time you start a new session, unless you're using Google Drive integration.\n",
        "\n",
        "###To use this key in Colab:\n",
        "\n",
        "Upload the JSON file to your Colab environment.\n",
        "Update the service_account variable in the code I provided earlier with the path to this file in your Colab environment.\n",
        "\n",
        "**Remember**, if you're working on a shared or public notebook, be careful not to expose this key. Consider using Colab's secrets management feature for added security when dealing with sensitive credentials."
      ],
      "metadata": {
        "id": "8t5rjJ3qnUOL"
      }
    },
    {
      "cell_type": "code",
      "source": [],
      "metadata": {
        "id": "S6qO8jWukfrz"
      },
      "execution_count": null,
      "outputs": []
    }
  ]
}
