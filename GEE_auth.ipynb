{
  "nbformat": 4,
  "nbformat_minor": 0,
  "metadata": {
    "colab": {
      "provenance": []
    },
    "kernelspec": {
      "name": "python3",
      "display_name": "Python 3"
    },
    "language_info": {
      "name": "python"
    }
  },
  "cells": [
    {
      "cell_type": "markdown",
      "source": [
        "###Install Google Earth Engine Python API"
      ],
      "metadata": {
        "id": "oA8cWVgclwjd"
      }
    },
    {
      "cell_type": "code",
      "source": [
        "!pip install earthengine-api"
      ],
      "metadata": {
        "colab": {
          "base_uri": "https://localhost:8080/"
        },
        "collapsed": true,
        "id": "CsSEApOe8zPk",
        "outputId": "893ea25f-bb1b-4263-da1c-3e0ae1638562"
      },
      "execution_count": 18,
      "outputs": [
        {
          "output_type": "stream",
          "name": "stdout",
          "text": [
            "Requirement already satisfied: earthengine-api in /usr/local/lib/python3.10/dist-packages (1.0.0)\n",
            "Requirement already satisfied: google-cloud-storage in /usr/local/lib/python3.10/dist-packages (from earthengine-api) (2.8.0)\n",
            "Requirement already satisfied: google-api-python-client>=1.12.1 in /usr/local/lib/python3.10/dist-packages (from earthengine-api) (2.137.0)\n",
            "Requirement already satisfied: google-auth>=1.4.1 in /usr/local/lib/python3.10/dist-packages (from earthengine-api) (2.27.0)\n",
            "Requirement already satisfied: google-auth-httplib2>=0.0.3 in /usr/local/lib/python3.10/dist-packages (from earthengine-api) (0.2.0)\n",
            "Requirement already satisfied: httplib2<1dev,>=0.9.2 in /usr/local/lib/python3.10/dist-packages (from earthengine-api) (0.22.0)\n",
            "Requirement already satisfied: requests in /usr/local/lib/python3.10/dist-packages (from earthengine-api) (2.32.3)\n",
            "Requirement already satisfied: google-api-core!=2.0.*,!=2.1.*,!=2.2.*,!=2.3.0,<3.0.0.dev0,>=1.31.5 in /usr/local/lib/python3.10/dist-packages (from google-api-python-client>=1.12.1->earthengine-api) (2.19.2)\n",
            "Requirement already satisfied: uritemplate<5,>=3.0.1 in /usr/local/lib/python3.10/dist-packages (from google-api-python-client>=1.12.1->earthengine-api) (4.1.1)\n",
            "Requirement already satisfied: cachetools<6.0,>=2.0.0 in /usr/local/lib/python3.10/dist-packages (from google-auth>=1.4.1->earthengine-api) (5.5.0)\n",
            "Requirement already satisfied: pyasn1-modules>=0.2.1 in /usr/local/lib/python3.10/dist-packages (from google-auth>=1.4.1->earthengine-api) (0.4.1)\n",
            "Requirement already satisfied: rsa<5,>=3.1.4 in /usr/local/lib/python3.10/dist-packages (from google-auth>=1.4.1->earthengine-api) (4.9)\n",
            "Requirement already satisfied: pyparsing!=3.0.0,!=3.0.1,!=3.0.2,!=3.0.3,<4,>=2.4.2 in /usr/local/lib/python3.10/dist-packages (from httplib2<1dev,>=0.9.2->earthengine-api) (3.1.4)\n",
            "Requirement already satisfied: google-cloud-core<3.0dev,>=2.3.0 in /usr/local/lib/python3.10/dist-packages (from google-cloud-storage->earthengine-api) (2.4.1)\n",
            "Requirement already satisfied: google-resumable-media>=2.3.2 in /usr/local/lib/python3.10/dist-packages (from google-cloud-storage->earthengine-api) (2.7.2)\n",
            "Requirement already satisfied: charset-normalizer<4,>=2 in /usr/local/lib/python3.10/dist-packages (from requests->earthengine-api) (3.4.0)\n",
            "Requirement already satisfied: idna<4,>=2.5 in /usr/local/lib/python3.10/dist-packages (from requests->earthengine-api) (3.10)\n",
            "Requirement already satisfied: urllib3<3,>=1.21.1 in /usr/local/lib/python3.10/dist-packages (from requests->earthengine-api) (2.2.3)\n",
            "Requirement already satisfied: certifi>=2017.4.17 in /usr/local/lib/python3.10/dist-packages (from requests->earthengine-api) (2024.8.30)\n",
            "Requirement already satisfied: googleapis-common-protos<2.0.dev0,>=1.56.2 in /usr/local/lib/python3.10/dist-packages (from google-api-core!=2.0.*,!=2.1.*,!=2.2.*,!=2.3.0,<3.0.0.dev0,>=1.31.5->google-api-python-client>=1.12.1->earthengine-api) (1.65.0)\n",
            "Requirement already satisfied: protobuf!=3.20.0,!=3.20.1,!=4.21.0,!=4.21.1,!=4.21.2,!=4.21.3,!=4.21.4,!=4.21.5,<6.0.0.dev0,>=3.19.5 in /usr/local/lib/python3.10/dist-packages (from google-api-core!=2.0.*,!=2.1.*,!=2.2.*,!=2.3.0,<3.0.0.dev0,>=1.31.5->google-api-python-client>=1.12.1->earthengine-api) (3.20.3)\n",
            "Requirement already satisfied: proto-plus<2.0.0dev,>=1.22.3 in /usr/local/lib/python3.10/dist-packages (from google-api-core!=2.0.*,!=2.1.*,!=2.2.*,!=2.3.0,<3.0.0.dev0,>=1.31.5->google-api-python-client>=1.12.1->earthengine-api) (1.24.0)\n",
            "Requirement already satisfied: google-crc32c<2.0dev,>=1.0 in /usr/local/lib/python3.10/dist-packages (from google-resumable-media>=2.3.2->google-cloud-storage->earthengine-api) (1.6.0)\n",
            "Requirement already satisfied: pyasn1<0.7.0,>=0.4.6 in /usr/local/lib/python3.10/dist-packages (from pyasn1-modules>=0.2.1->google-auth>=1.4.1->earthengine-api) (0.6.1)\n"
          ]
        }
      ]
    },
    {
      "cell_type": "markdown",
      "source": [
        "###Import the Earth Engine module and initialize it:\n",
        "When Google login pop up, agree for permission. There have 4 permissions requested."
      ],
      "metadata": {
        "id": "3pH85znNl45B"
      }
    },
    {
      "cell_type": "code",
      "source": [
        "import ee\n",
        "ee.Authenticate()"
      ],
      "metadata": {
        "colab": {
          "base_uri": "https://localhost:8080/"
        },
        "id": "uNB6_ixM82IX",
        "outputId": "5423eaf4-9ec2-40e1-95b5-3d9a29a8fab5"
      },
      "execution_count": 19,
      "outputs": [
        {
          "output_type": "execute_result",
          "data": {
            "text/plain": [
              "True"
            ]
          },
          "metadata": {},
          "execution_count": 19
        }
      ]
    },
    {
      "cell_type": "markdown",
      "source": [
        "When you run the ee.Authenticate() command, it will provide you with a URL. Click on this URL or copy-paste it into a new browser tab.\n",
        "Sign in with your Google account that has Earth Engine access.\n",
        "After signing in, you'll receive an authorization code. Copy this code.\n",
        "Paste the authorization code back into the Colab notebook when prompted.\n",
        "This process should authenticate your Earth Engine account with Colab. However, you'll need to repeat this authentication process each time you start a new Colab session or if your session times out."
      ],
      "metadata": {
        "id": "Fil5Ax3-SU4v"
      }
    },
    {
      "cell_type": "markdown",
      "source": [
        "###Another method (my choice)\n",
        "To avoid repeating this process every time, you can use a service account instead:\n",
        "Create a service account and download the private key file from the Google Cloud Console.\n",
        "Upload the private key file to your Colab environment.\n",
        "Use the following code to authenticate using the service account:"
      ],
      "metadata": {
        "id": "EfHXlUNum-XF"
      }
    },
    {
      "cell_type": "code",
      "source": [
        "import ee\n",
        "\n",
        "# Path to your service account key file\n",
        "service_account = 'path/to/your-service-account-key.json'\n",
        "\n",
        "# Authenticate and initialize\n",
        "credentials = ee.ServiceAccountCredentials(None, service_account)\n",
        "ee.Initialize(credentials)"
      ],
      "metadata": {
        "id": "GNkQtMmu_rxi"
      },
      "execution_count": 23,
      "outputs": []
    },
    {
      "cell_type": "markdown",
      "source": [
        "### For service account key create details.\n",
        "Go to the Google Cloud Console (https://console.cloud.google.com/).\n",
        "\n",
        "Select your project or create a new one if you haven't already.\n",
        "\n",
        "In the left sidebar, navigate to \"IAM & Admin\" > \"Service Accounts\".\n",
        "\n",
        "Click on \"Create Service Account\" at the top of the page.\n",
        "\n",
        "Give your service account a name and description, then click \"Create\".\n",
        "\n",
        "In the \"Service account permissions\" section, you can assign roles.\n",
        "For Earth Engine, you typically need the \"Earth Engine Resource Viewer\" role at minimum.\n",
        "\n",
        "After setting permissions, click \"Continue\" and then \"Done\".\n",
        "\n",
        "Now, find your newly created service account in the list and click on it.\n",
        "\n",
        "In the service account details page, go to the \"Keys\" tab.\n",
        "\n",
        "Click on \"Add Key\" > \"Create new key\".\n",
        "\n",
        "Choose \"JSON\" as the key type and click \"Create\".\n",
        "\n",
        "The JSON key file will be automatically downloaded to your computer.\n",
        "\n",
        "###Important notes:\n",
        "\n",
        "Keep this file secure. It contains sensitive information that grants access to your Google Cloud resources.\n",
        "\n",
        "***Never share this file or upload it to public repositories.***\n",
        "\n",
        "When using it with Colab, you'll need to upload this file to your Colab environment each time you start a new session, unless you're using Google Drive integration.\n",
        "\n",
        "###To use this key in Colab:\n",
        "\n",
        "Upload the JSON file to your Colab environment.\n",
        "Update the service_account variable in the code I provided earlier with the path to this file in your Colab environment.\n",
        "\n",
        "**Remember**, if you're working on a shared or public notebook, be careful not to expose this key. Consider using Colab's secrets management feature for added security when dealing with sensitive credentials."
      ],
      "metadata": {
        "id": "8t5rjJ3qnUOL"
      }
    },
    {
      "cell_type": "code",
      "source": [],
      "metadata": {
        "id": "S6qO8jWukfrz"
      },
      "execution_count": null,
      "outputs": []
    }
  ]
}